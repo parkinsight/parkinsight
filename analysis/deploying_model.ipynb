{
 "cells": [
  {
   "cell_type": "code",
   "execution_count": 82,
   "metadata": {},
   "outputs": [
    {
     "name": "stdout",
     "output_type": "stream",
     "text": [
      "Azure ML SDK Version:  1.0.41\n"
     ]
    }
   ],
   "source": [
    "import numpy as np\n",
    "import pandas as pd\n",
    "import matplotlib.pyplot as plt\n",
    "import os\n",
    "\n",
    "import azureml.core\n",
    "from azureml.core import Workspace\n",
    "\n",
    "# check core SDK version number\n",
    "print(\"Azure ML SDK Version: \", azureml.core.VERSION)"
   ]
  },
  {
   "cell_type": "code",
   "execution_count": 288,
   "metadata": {},
   "outputs": [],
   "source": [
    "from IPython.display import Audio\n",
    "sound_file = 'data/Pd1.wav'"
   ]
  },
  {
   "cell_type": "code",
   "execution_count": 9,
   "metadata": {},
   "outputs": [
    {
     "name": "stderr",
     "output_type": "stream",
     "text": [
      "UserWarning: The resource group doesn't exist or was not provided. AzureML SDK is creating a resource group=parkinsight in location=southcentralus using subscription=bcfdb149-908f-49ab-8664-97ab3a3db66c.\n"
     ]
    },
    {
     "name": "stdout",
     "output_type": "stream",
     "text": [
      "Deploying KeyVault with name jackworkkeyvault2da07317.\n",
      "Deploying AppInsights with name jackworkinsightsea2899cd.\n",
      "Deployed AppInsights with name jackworkinsightsea2899cd. Took 4.62 seconds.\n",
      "Deploying StorageAccount with name jackworkstoragefd1b92b2c.\n",
      "Deployed KeyVault with name jackworkkeyvault2da07317. Took 20.82 seconds.\n",
      "Deployed StorageAccount with name jackworkstoragefd1b92b2c. Took 19.96 seconds.\n",
      "Deploying Workspace with name jack_workspace.\n",
      "Deployed Workspace with name jack_workspace. Took 57.33 seconds.\n",
      "Deploying Compute Target with name cpu-cluster\n",
      "Deploying Compute Target with name gpu-cluster\n",
      "Deployed Compute Target with name cpu-cluster. Took 72.61 seconds\n",
      "Deployed Compute Target with name gpu-cluster. Took 72.94 seconds\n"
     ]
    }
   ],
   "source": [
    "from azureml.core import Workspace\n",
    "ws = Workspace.create(name='jack_workspace',\n",
    "                      subscription_id='bcfdb149-908f-49ab-8664-97ab3a3db66c',\n",
    "                      resource_group='parkinsight',\n",
    "                      create_resource_group=True,\n",
    "                      location='southcentralus'\n",
    "                     )"
   ]
  },
  {
   "cell_type": "code",
   "execution_count": 12,
   "metadata": {},
   "outputs": [],
   "source": [
    "ws.write_config(file_name=\"ws_config.json\")"
   ]
  },
  {
   "cell_type": "code",
   "execution_count": 15,
   "metadata": {},
   "outputs": [
    {
     "name": "stdout",
     "output_type": "stream",
     "text": [
      "jack_workspace\tsouthcentralus\tparkinsight\tsouthcentralus\n"
     ]
    }
   ],
   "source": [
    "# load workspace configuration from the config.json file in the current folder.\n",
    "ws = Workspace.from_config(path='.azureml/ws_config.json')\n",
    "print(ws.name, ws.location, ws.resource_group, ws.location, sep = '\\t')"
   ]
  },
  {
   "cell_type": "markdown",
   "metadata": {},
   "source": [
    "### Model Validation"
   ]
  },
  {
   "cell_type": "code",
   "execution_count": 341,
   "metadata": {},
   "outputs": [],
   "source": [
    "from sklearn.linear_model import Ridge\n",
    "from sklearn.model_selection import train_test_split\n",
    "from sklearn.externals import joblib\n",
    "from sklearn.preprocessing import StandardScaler"
   ]
  },
  {
   "cell_type": "code",
   "execution_count": 336,
   "metadata": {},
   "outputs": [],
   "source": [
    "import tensorflow as tf\n",
    "import keras\n",
    "from tensorflow.keras import layers\n",
    "from keras.models import load_model\n",
    "from keras.utils import CustomObjectScope\n",
    "from keras.initializers import glorot_uniform"
   ]
  },
  {
   "cell_type": "code",
   "execution_count": 337,
   "metadata": {},
   "outputs": [],
   "source": [
    "with CustomObjectScope({'GlorotUniform': glorot_uniform()}):\n",
    "        tf_model = load_model('tf_model.h5')"
   ]
  },
  {
   "cell_type": "code",
   "execution_count": 239,
   "metadata": {},
   "outputs": [],
   "source": [
    "model = joblib.load('ridge_model.pkl')"
   ]
  },
  {
   "cell_type": "code",
   "execution_count": 338,
   "metadata": {},
   "outputs": [
    {
     "data": {
      "text/plain": [
       "(5875, 13)"
      ]
     },
     "execution_count": 338,
     "metadata": {},
     "output_type": "execute_result"
    }
   ],
   "source": [
    "# parkinson dataset for training\n",
    "df = pd.read_csv('parkinsons_updrs.data')\n",
    "df = df.loc[:, 'total_UPDRS':'HNR']\n",
    "df = df.drop('NHR', axis=1)\n",
    "df.shape"
   ]
  },
  {
   "cell_type": "code",
   "execution_count": 339,
   "metadata": {},
   "outputs": [],
   "source": [
    "# splitting data for validation testing\n",
    "X = df.loc[:,'Jitter(%)':'HNR']\n",
    "y = df.total_UPDRS\n",
    "X_train, X_test, y_train, y_test = train_test_split(X, y, test_size=0.33)"
   ]
  },
  {
   "cell_type": "code",
   "execution_count": 345,
   "metadata": {},
   "outputs": [],
   "source": [
    "ss = StandardScaler()\n",
    "X_train = ss.fit_transform(X_train)\n",
    "X_test = ss.transform(X_test)"
   ]
  },
  {
   "cell_type": "code",
   "execution_count": 346,
   "metadata": {},
   "outputs": [
    {
     "data": {
      "text/plain": [
       "10.323478729006228"
      ]
     },
     "execution_count": 346,
     "metadata": {},
     "output_type": "execute_result"
    }
   ],
   "source": [
    "prediction = tf_model.predict(X_test)\n",
    "np.mean(np.abs(prediction-y_test.values.reshape(-1)))"
   ]
  },
  {
   "cell_type": "code",
   "execution_count": 267,
   "metadata": {},
   "outputs": [],
   "source": [
    "# os.makedirs('outputs', exist_ok=True)\n",
    "# # note file saved in the outputs folder is automatically uploaded into experiment record\n",
    "# joblib.dump(value=model, filename='ridge_regression.pkl')"
   ]
  },
  {
   "cell_type": "code",
   "execution_count": 221,
   "metadata": {},
   "outputs": [
    {
     "name": "stdout",
     "output_type": "stream",
     "text": [
      "Registering model ridge_regression.pkl\n"
     ]
    }
   ],
   "source": [
    "# from azureml.core.model import Model\n",
    "# model = Model.register(model_path = \"ridge_regression.pkl\",\n",
    "#                        model_name = \"ridge_regression.pkl\",\n",
    "#                        tags = {'area': \"parkinson\", 'type': \"regression\"},\n",
    "#                        description = \"Ridge regression model to predict UPDRS score\",\n",
    "#                        workspace = ws)"
   ]
  },
  {
   "cell_type": "code",
   "execution_count": 310,
   "metadata": {},
   "outputs": [
    {
     "name": "stdout",
     "output_type": "stream",
     "text": [
      "Registering model tf_model.h5\n"
     ]
    }
   ],
   "source": [
    "from azureml.core.model import Model\n",
    "model = Model.register(model_path = \"tf_model.h5\",\n",
    "                       model_name = \"tf_model.h5\",\n",
    "                       tags = {'area': \"parkinson\", 'type': \"deep learning\"},\n",
    "                       description = \"TensorFlow model to predict UPDRS score\",\n",
    "                       workspace = ws)"
   ]
  },
  {
   "cell_type": "code",
   "execution_count": 311,
   "metadata": {},
   "outputs": [
    {
     "name": "stdout",
     "output_type": "stream",
     "text": [
      "Overwriting score.py\n"
     ]
    }
   ],
   "source": [
    "%%writefile score.py\n",
    "import tensorflow as tf\n",
    "import keras\n",
    "from tensorflow.keras import layers\n",
    "from keras.models import load_model\n",
    "from keras.utils import CustomObjectScope\n",
    "from keras.initializers import glorot_uniform\n",
    "from azureml.core.model import Model\n",
    "import numpy as np\n",
    "import json\n",
    "import ast\n",
    "\n",
    "def init():\n",
    "    global model\n",
    "    model_path = Model.get_model_path('tf_model.h5')\n",
    "\n",
    "    with CustomObjectScope({'GlorotUniform': glorot_uniform()}):\n",
    "        model = load_model(model_path)\n",
    "\n",
    "def run(raw_data):\n",
    "    try:\n",
    "        data = json.loads(raw_data)['data'][0]\n",
    "        data = ast.literal_eval(data)\n",
    "        data = np.array(data)\n",
    "        result = model.predict(data)\n",
    "        return result.tolist()\n",
    "    except Exception as e:\n",
    "        error = str(e)\n",
    "        return error"
   ]
  },
  {
   "cell_type": "code",
   "execution_count": 312,
   "metadata": {},
   "outputs": [
    {
     "data": {
      "text/plain": [
       "'myenv.yml'"
      ]
     },
     "execution_count": 312,
     "metadata": {},
     "output_type": "execute_result"
    }
   ],
   "source": [
    "from azureml.core.conda_dependencies import CondaDependencies \n",
    "cd = CondaDependencies.create()\n",
    "cd.add_conda_package('numpy')\n",
    "cd.add_conda_package('scikit-learn')\n",
    "cd.add_tensorflow_conda_package()\n",
    "cd.add_conda_package('keras')\n",
    "# myenv = CondaDependencies.create(conda_packages=['numpy','scikit-learn'])\n",
    "\n",
    "cd.save_to_file(base_directory='./', conda_file_path='myenv.yml')"
   ]
  },
  {
   "cell_type": "code",
   "execution_count": 313,
   "metadata": {},
   "outputs": [],
   "source": [
    "from azureml.core.image import ContainerImage\n",
    "\n",
    "imgconfig = ContainerImage.image_configuration(execution_script=\"score.py\", \n",
    "                                               runtime=\"python\", \n",
    "                                               conda_file=\"myenv.yml\")"
   ]
  },
  {
   "cell_type": "code",
   "execution_count": 316,
   "metadata": {},
   "outputs": [
    {
     "ename": "TypeError",
     "evalue": "deploy_from_model() got an unexpected keyword argument 'auth_enabled'",
     "output_type": "error",
     "traceback": [
      "\u001b[1;31m---------------------------------------------------------------------------\u001b[0m",
      "\u001b[1;31mTypeError\u001b[0m                                 Traceback (most recent call last)",
      "\u001b[1;32m<timed exec>\u001b[0m in \u001b[0;36m<module>\u001b[1;34m()\u001b[0m\n",
      "\u001b[1;31mTypeError\u001b[0m: deploy_from_model() got an unexpected keyword argument 'auth_enabled'"
     ]
    }
   ],
   "source": [
    "%%time\n",
    "from azureml.core.webservice import Webservice\n",
    "\n",
    "service = Webservice.deploy_from_model(workspace=ws,\n",
    "                                       name='parkinsight-tf-real-auth',\n",
    "                                       deployment_config=aciconfig,\n",
    "                                       models=[model],\n",
    "                                       image_config=imgconfig,\n",
    "                                       auth_enabled=False)\n",
    "\n",
    "service.wait_for_deployment(show_output=True)"
   ]
  },
  {
   "cell_type": "code",
   "execution_count": 322,
   "metadata": {},
   "outputs": [],
   "source": [
    "# service.get_keys()"
   ]
  },
  {
   "cell_type": "code",
   "execution_count": 321,
   "metadata": {},
   "outputs": [
    {
     "data": {
      "text/plain": [
       "'http://88412c43-00e2-4601-adce-4a30de066290.westus.azurecontainer.io/score'"
      ]
     },
     "execution_count": 321,
     "metadata": {},
     "output_type": "execute_result"
    }
   ],
   "source": [
    "service.scoring_uri"
   ]
  },
  {
   "cell_type": "code",
   "execution_count": 287,
   "metadata": {
    "scrolled": true
   },
   "outputs": [
    {
     "name": "stdout",
     "output_type": "stream",
     "text": [
      "Creating image\n",
      "Running.\n",
      "NotStarted.............................................\n",
      "Succeeded\n",
      "Image creation operation finished for image tensorflow2:1, operation \"Succeeded\"\n"
     ]
    }
   ],
   "source": [
    "# from azureml.core.image import Image, ContainerImage\n",
    "# image_config = ContainerImage.image_configuration(runtime= \"python\",\n",
    "#                                  execution_script=\"score.py\",\n",
    "#                                  conda_file=\"myenv.yml\",\n",
    "#                                  tags = {'area': \"parkinson\", 'type': \"regression\"},\n",
    "#                                  description = \"Image with tensorflow regression model\")\n",
    "# image = Image.create(name = \"tensorflow2\",\n",
    "#                      # this is the model object \n",
    "#                      models = [model],\n",
    "#                      image_config = image_config, \n",
    "#                      workspace = ws)\n",
    "# image.wait_for_creation(show_output = True)"
   ]
  },
  {
   "cell_type": "code",
   "execution_count": null,
   "metadata": {},
   "outputs": [],
   "source": [
    "from azureml.core.webservice import AciWebservice\n",
    "aciconfig = AciWebservice.deploy_configuration(cpu_cores = 1, \n",
    "                                          memory_gb = 1, \n",
    "                                          tags = {\"data\": \"parkinson\", \"type\": \"regression\"}, \n",
    "                                           description = 'TF regression model')"
   ]
  },
  {
   "cell_type": "code",
   "execution_count": 293,
   "metadata": {},
   "outputs": [],
   "source": [
    "from azureml.core.webservice import Webservice\n",
    "service_name = 'aci-parkinsight-real-4'\n",
    "service = Webservice.deploy_from_image(deployment_config = aciconfig,\n",
    "                                            image = image,\n",
    "                                            name = service_name,\n",
    "                                            workspace = ws)\n",
    "service.wait_for_deployment(show_output = True)"
   ]
  },
  {
   "cell_type": "code",
   "execution_count": 248,
   "metadata": {},
   "outputs": [],
   "source": [
    "test_sample = pd.read_csv('test_data.csv')"
   ]
  },
  {
   "cell_type": "code",
   "execution_count": 249,
   "metadata": {},
   "outputs": [],
   "source": [
    "test_sample = test_sample.drop('Unnamed: 0', axis=1)"
   ]
  },
  {
   "cell_type": "code",
   "execution_count": 250,
   "metadata": {},
   "outputs": [],
   "source": [
    "test_sample = test_sample.iloc[:, 1:]"
   ]
  },
  {
   "cell_type": "code",
   "execution_count": 230,
   "metadata": {},
   "outputs": [
    {
     "name": "stdout",
     "output_type": "stream",
     "text": [
      "[-28.681054240245544, -7.295375837141805, -19.33207615313343, -28.884528635152833, -24.18091816967509, -21.468899601792543, -20.606010176136294, -21.80772401533445, -16.319255014294157, -23.71586162047879, -18.26614673264345, -31.4952379515421, -32.71794334441283, -11.76469782962895, -28.337047066714305, -0.3965905206793181, -10.904355381755629, -15.483870812647297, -15.123996949206571, -12.151844028454576, -19.7918415809227, -27.452280750104677, -29.836275593211802]\n"
     ]
    }
   ],
   "source": [
    "import json\n",
    "test_sample = json.dumps({'data': [\n",
    "    test_sample.to_json(orient = 'values')\n",
    "]})\n",
    "test_sample = bytes(test_sample,encoding = 'utf8')\n",
    "prediction = service.run(input_data = test_sample)\n",
    "print(prediction)"
   ]
  },
  {
   "cell_type": "code",
   "execution_count": 236,
   "metadata": {},
   "outputs": [
    {
     "data": {
      "text/plain": [
       "'http://070a6b08-9130-4b05-9874-a3d41846cca2.westus.azurecontainer.io/score'"
      ]
     },
     "execution_count": 236,
     "metadata": {},
     "output_type": "execute_result"
    }
   ],
   "source": [
    "service.scoring_uri"
   ]
  },
  {
   "cell_type": "code",
   "execution_count": 315,
   "metadata": {},
   "outputs": [
    {
     "name": "stdout",
     "output_type": "stream",
     "text": [
      "{'Content-Type': 'application/json'}\n",
      "200\n",
      "0:00:00.268985\n",
      "[[-105.87728881835938], [-62.337276458740234], [-85.45500183105469], [-107.1661605834961], [-97.08382415771484], [-91.53104400634766], [-89.83670806884766], [-92.01820373535156], [-81.48261260986328], [-96.17963409423828], [-84.88692474365234], [-111.58415222167969], [-114.44050598144531], [-72.18748474121094], [-105.34400177001953], [-47.38368606567383], [-70.22252655029297], [-79.56731414794922], [-78.93351745605469], [-73.06124877929688], [-88.11766052246094], [-103.48833465576172], [-108.2298583984375]]\n"
     ]
    }
   ],
   "source": [
    "import requests\n",
    "import json\n",
    "\n",
    "test_sample = pd.read_csv('test_data.csv')\n",
    "test_sample = test_sample.drop('Unnamed: 0', axis=1)\n",
    "test_sample = test_sample.iloc[:, 1:]\n",
    "\n",
    "headers = {'Content-Type':'application/json'}\n",
    "\n",
    "if service.auth_enabled:\n",
    "    headers['Authorization'] = 'Bearer '+service.get_keys()[0]\n",
    "\n",
    "print(headers)\n",
    "    \n",
    "test_sample = json.dumps({'data': [\n",
    "    test_sample.to_json(orient = 'values')\n",
    "]})\n",
    "\n",
    "response = requests.post(service.scoring_uri, data=test_sample, headers=headers)\n",
    "print(response.status_code)\n",
    "print(response.elapsed)\n",
    "print(response.json())"
   ]
  },
  {
   "cell_type": "code",
   "execution_count": 263,
   "metadata": {},
   "outputs": [
    {
     "data": {
      "text/plain": [
       "'http://070a6b08-9130-4b05-9874-a3d41846cca2.westus.azurecontainer.io/score'"
      ]
     },
     "execution_count": 263,
     "metadata": {},
     "output_type": "execute_result"
    }
   ],
   "source": [
    "service.scoring_uri"
   ]
  }
 ],
 "metadata": {
  "kernelspec": {
   "display_name": "Python 3",
   "language": "python",
   "name": "python3"
  },
  "language_info": {
   "codemirror_mode": {
    "name": "ipython",
    "version": 3
   },
   "file_extension": ".py",
   "mimetype": "text/x-python",
   "name": "python",
   "nbconvert_exporter": "python",
   "pygments_lexer": "ipython3",
   "version": "3.6.5"
  }
 },
 "nbformat": 4,
 "nbformat_minor": 2
}
