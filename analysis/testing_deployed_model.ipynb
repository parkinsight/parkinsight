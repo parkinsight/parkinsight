{
 "cells": [
  {
   "cell_type": "code",
   "execution_count": 5,
   "metadata": {},
   "outputs": [
    {
     "name": "stdout",
     "output_type": "stream",
     "text": [
      "Azure ML SDK Version:  1.0.41\n"
     ]
    }
   ],
   "source": [
    "import numpy as np\n",
    "import pandas as pd\n",
    "import matplotlib.pyplot as plt\n",
    "import os\n",
    "\n",
    "import azureml.core\n",
    "from azureml.core import Workspace\n",
    "from azureml.core.webservice import Webservice\n",
    "\n",
    "# check core SDK version number\n",
    "print(\"Azure ML SDK Version: \", azureml.core.VERSION)"
   ]
  },
  {
   "cell_type": "code",
   "execution_count": 13,
   "metadata": {},
   "outputs": [],
   "source": [
    "workspace_name='jack_workspace'\n",
    "subscription_id='bcfdb149-908f-49ab-8664-97ab3a3db66c'\n",
    "\n",
    "ws = Workspace.get(workspace_name, subscription_id = subscription_id)"
   ]
  },
  {
   "cell_type": "code",
   "execution_count": 14,
   "metadata": {},
   "outputs": [],
   "source": [
    "service = Webservice(workspace=ws, name='parkinsight-tf-real')"
   ]
  },
  {
   "cell_type": "code",
   "execution_count": 27,
   "metadata": {},
   "outputs": [],
   "source": [
    "uri = service.scoring_uri"
   ]
  },
  {
   "cell_type": "code",
   "execution_count": 28,
   "metadata": {},
   "outputs": [
    {
     "data": {
      "text/plain": [
       "['-105.87728881835938',\n",
       " '-62.337276458740234',\n",
       " '-85.45500183105469',\n",
       " '-107.1661605834961',\n",
       " '-97.08382415771484',\n",
       " '-91.53104400634766',\n",
       " '-89.83670806884766',\n",
       " '-92.01820373535156',\n",
       " '-81.48261260986328',\n",
       " '-96.17963409423828',\n",
       " '-84.88692474365234',\n",
       " '-111.58415222167969',\n",
       " '-114.44050598144531',\n",
       " '-72.18748474121094',\n",
       " '-105.34400177001953',\n",
       " '-47.38368606567383',\n",
       " '-70.22252655029297',\n",
       " '-79.56731414794922',\n",
       " '-78.93351745605469',\n",
       " '-73.06124877929688',\n",
       " '-88.11766052246094',\n",
       " '-103.48833465576172',\n",
       " '-108.2298583984375']"
      ]
     },
     "execution_count": 28,
     "metadata": {},
     "output_type": "execute_result"
    }
   ],
   "source": [
    "import requests\n",
    "import json\n",
    "import pandas as pd\n",
    "\n",
    "test_sample = pd.read_csv('test_data.csv')\n",
    "test_sample = test_sample.drop('Unnamed: 0', axis=1)\n",
    "test_sample = test_sample.iloc[:, 1:]\n",
    "\n",
    "# headers = {'Content-Type':'application/json'}\n",
    "\n",
    "# if service.auth_enabled:\n",
    "#     headers['Authorization'] = 'Bearer '+service.get_keys()[0]\n",
    "\n",
    "# print(headers)\n",
    "\n",
    "test_sample = json.dumps({'data': [\n",
    "    test_sample.to_json(orient = 'values')\n",
    "]})\n",
    "\n",
    "response = requests.post(uri, data=test_sample, headers=headers)\n",
    "[str(x[0]) for x in response.json()]\n",
    "# print(response.status_code)\n",
    "# print(response.elapsed)\n",
    "# print(response.json())"
   ]
  }
 ],
 "metadata": {
  "kernelspec": {
   "display_name": "Python 3",
   "language": "python",
   "name": "python3"
  },
  "language_info": {
   "codemirror_mode": {
    "name": "ipython",
    "version": 3
   },
   "file_extension": ".py",
   "mimetype": "text/x-python",
   "name": "python",
   "nbconvert_exporter": "python",
   "pygments_lexer": "ipython3",
   "version": "3.6.5"
  }
 },
 "nbformat": 4,
 "nbformat_minor": 2
}
